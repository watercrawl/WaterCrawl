{
 "cells": [
  {
   "cell_type": "markdown",
   "metadata": {},
   "source": [
    "# 💹🚀 Building a Stock Analyzer with WaterCrawl × Claude 3.7 × E2B × Tavily\n",
    "\n",
    "Welcome to this **step-by-step Jupyter Notebook** where you'll unleash powerful financial analysis using the latest AI & scraping tools:\n",
    "\n",
    "1. 🕷️ **WaterCrawl** – Lightning-fast, customizable web crawling for up-to-date stock info\n",
    "2. 🤖 **Claude 3.7** – Expert-level financial analysis and crisp, structured insights\n",
    "3. 📊 **E2B Code Interpreter** – Instantly visualize your findings, in-code!\n",
    "4. 🔎 **WaterCrawl Search API** – Find just the right stock pages (so you're always using the freshest data!)\n",
    "\n",
    "---\n",
    "\n",
    "### What will you learn? 👨‍🎓👩‍💻\n",
    "\n",
    "- How to set up WaterCrawl + API keys in minutes\n",
    "- 🕸️ Crawl and extract financial data, zero HTML hassle\n",
    "- 📈 Supercharge stock insights using Claude 3.7\n",
    "- 📊 Generate pretty Python charts from your AI analysis\n",
    "- 💡 Pro tips for reliable, robust data scraping and analytics\n",
    "\n",
    "---\n",
    "\n",
    "#### 🔑 **What do you need?**\n",
    "\n",
    "| Service       | Key Purpose                | Where to generate                               |\n",
    "|--------------|---------------------------|-------------------------------------------------|\n",
    "| WaterCrawl   | Search andCrawl anything            | [Get API key](https://app.watercrawl.dev/dashboard/api-keys)     |\n",
    "| Anthropic    | Power Claude 3.7          | [Get API key](https://console.anthropic.com/settings/keys)       |\n",
    "| E2B          | In-notebook code & plots  | [Get API key](https://app.e2b.dev/)             |\n",
    "\n",
    "Let's begin! 🎉"
   ]
  },
  {
   "cell_type": "markdown",
   "metadata": {},
   "source": [
    "---\n",
    "## 1. 🚦 Setup and Installation\n",
    "\n",
    "> **Install all dependencies in one go!**"
   ]
  },
  {
   "cell_type": "code",
   "execution_count": 1,
   "metadata": {},
   "outputs": [],
   "source": [
    "# !pip install watercrawl-py anthropic e2b-code-interpreter python-dotenv matplotlib requests"
   ]
  },
  {
   "cell_type": "markdown",
   "metadata": {},
   "source": [
    "---\n",
    "## 2. 📦 Import Required Libraries\n",
    "\n",
    "> Bring in the packages you'll use for everything from crawling to charting."
   ]
  },
  {
   "cell_type": "code",
   "execution_count": 1,
   "metadata": {},
   "outputs": [],
   "source": [
    "import os\n",
    "from watercrawl import WaterCrawlAPIClient\n",
    "import anthropic\n",
    "from e2b_code_interpreter import Sandbox\n",
    "import base64\n",
    "import json\n",
    "from dotenv import load_dotenv\n",
    "import matplotlib.pyplot as plt\n",
    "from IPython.display import Image, display\n",
    "import requests"
   ]
  },
  {
   "cell_type": "markdown",
   "metadata": {},
   "source": [
    "---\n",
    "## 3. 🔑 Load Environment Variables\n",
    "\n",
    "> **Never hardcode your API keys!** Store them safely in a `.env` file for peace of mind 💼🔒\n",
    "\n",
    "A sample `.env` should look like:\n",
    "```env\n",
    "WATERCRAWL_API_KEY=sk-... \n",
    "ANTHROPIC_API_KEY=sk-ant-... \n",
    "E2B_API_KEY=pk-e2b-... \n",
    "```\n"
   ]
  },
  {
   "cell_type": "code",
   "execution_count": 2,
   "metadata": {},
   "outputs": [
    {
     "name": "stdout",
     "output_type": "stream",
     "text": [
      "✅ All clients initialized!\n"
     ]
    }
   ],
   "source": [
    "# Load environment variables from .env\n",
    "load_dotenv()\n",
    "\n",
    "# Retrieve API keys\n",
    "watercrawl_api_key = os.getenv(\"WATERCRAWL_API_KEY\")\n",
    "anthropic_api_key = os.getenv(\"ANTHROPIC_API_KEY\")\n",
    "e2b_api_key = os.getenv(\"E2B_API_KEY\")\n",
    "\n",
    "# Initialize clients\n",
    "watercrawl_client = WaterCrawlAPIClient(api_key=watercrawl_api_key)\n",
    "claude_client = anthropic.Anthropic(api_key=anthropic_api_key)\n",
    "sandbox = Sandbox(api_key=e2b_api_key)\n",
    "\n",
    "print(\"✅ All clients initialized!\")"
   ]
  },
  {
   "cell_type": "markdown",
   "metadata": {},
   "source": [
    "---\n",
    "## 4. 🛠️ Define Helper Functions\n",
    "\n",
    "> These functions stitch together the search, crawl, and analysis magic! 🪄"
   ]
  },
  {
   "cell_type": "code",
   "execution_count": 58,
   "metadata": {},
   "outputs": [],
   "source": [
    "def find_relevant_stock_pages(stock_symbol, base_url, client):\n",
    "    \"\"\"🔎 Find relevant stock pages using WaterCrawl Web Search\"\"\"\n",
    "    print(f\"Searching WaterCrawl for 📈 stock: {stock_symbol} on {base_url}\")\n",
    "    try:\n",
    "        search = client.create_search_request(\n",
    "            query=f\"{stock_symbol} stock analysis site:{base_url}\",\n",
    "            search_options={\n",
    "                \"depth\": \"basic\",\n",
    "                \"language\": \"en\",\n",
    "                \"country\": \"us\",\n",
    "                \"time_range\": \"month\",\n",
    "                \"search_type\": \"web\"\n",
    "            },\n",
    "            result_limit=4,\n",
    "            sync=True,\n",
    "            download=True\n",
    "        )\n",
    "        urls = [hit[\"url\"] for hit in search['result'] if \"url\" in hit]\n",
    "        print(f\"🔗 Found {len(urls)} relevant pages!\")\n",
    "        return urls\n",
    "    except Exception as e:\n",
    "        print(f\"⚠️ Error finding stock pages: {str(e)}\")\n",
    "        return []"
   ]
  },
  {
   "cell_type": "code",
   "execution_count": null,
   "metadata": {},
   "outputs": [],
   "source": [
    "def analyze_stock_data(stock_pages, client):\n",
    "    \"\"\"\n",
    "    🤖 Analyze stock data using Claude 3.7\n",
    "    \"\"\"\n",
    "    if not stock_pages:\n",
    "        print(\"❌ No pages provided for analysis!\")\n",
    "        return None\n",
    "    try:\n",
    "        stock_contents = []\n",
    "        print(\" 📚 Found pages:\", stock_pages)\n",
    "        for page_url in stock_pages[:5]: \n",
    "            print(\" 📚 Scraping page:\", page_url) # Only the top 5\n",
    "            try:\n",
    "                scrape_result = watercrawl_client.scrape_url(\n",
    "                    url=page_url,\n",
    "                    page_options={\n",
    "                        \"exclude_tags\": [\"nav\", \"footer\"],\n",
    "                        \"include_tags\": [\"article\", \"main\"],\n",
    "                        \"wait_time\": 1500,\n",
    "                        \"include_html\": False,\n",
    "                        \"only_main_content\": True\n",
    "                    }\n",
    "                )\n",
    "                stock_contents.append({\n",
    "                    'url': page_url,\n",
    "                    'content': scrape_result.get('result', {}).get('markdown', '')\n",
    "                })\n",
    "            except Exception as e:\n",
    "                print(f\"⚠️ Error scraping {page_url}: {str(e)}\")\n",
    "        \n",
    "        if not stock_contents:\n",
    "            print(\"😢 No content scraped from pages!\")\n",
    "            return None\n",
    "        \n",
    "        analyze_prompt = \"\"\"\n",
    "You are a financial analyst. Based on the following stock information, analyze and provide your analysis in VALID JSON format.\n",
    "\n",
    "IMPORTANT:\n",
    "1. Your ENTIRE response must be valid JSON that can be parsed by Python's json.loads() function\n",
    "2. Use double quotes for JSON keys and string values, not single quotes\n",
    "3. Ensure all strings are properly escaped\n",
    "4. Do not include any text, explanations, or markdown before or after the JSON\n",
    "\n",
    "The JSON structure must follow exactly this format:\n",
    "{\n",
    "  \"company_overview\": \"Brief overview of the company\",\n",
    "  \"financial_health\": \"Analysis of financial position\",\n",
    "  \"growth_potential\": \"Assessment of growth opportunities\",\n",
    "  \"risk_factors\": \"Key risks to consider\",\n",
    "  \"investment_score\": 75 // A number between 0-100\n",
    "}\n",
    "\n",
    "Stock Information:\n",
    "\"\"\"\n",
    "        for stock in stock_contents:\n",
    "            analyze_prompt += f\"\\nURL: {stock['url']}\\nContent: {stock['content']}\\n\"\n",
    "        \n",
    "        # Claude 3.7 call\n",
    "        completion = client.messages.create(\n",
    "            model=\"claude-3-7-sonnet-20250219\",\n",
    "            max_tokens=1300,\n",
    "            temperature=0,\n",
    "            system=\"You are a financial analyst who ALWAYS returns responses in valid, parseable JSON format. Never include explanations or text outside the JSON object.\",\n",
    "            messages=[{\"role\": \"user\", \"content\": analyze_prompt}]\n",
    "        )\n",
    "        response_text = completion.content[0].text\n",
    "        try:\n",
    "            json_start = response_text.find('{')\n",
    "            json_end = response_text.rfind('}') + 1\n",
    "            if json_start != -1 and json_end != 0:\n",
    "                json_str = response_text[json_start:json_end]\n",
    "                return json.loads(json_str)\n",
    "            else:\n",
    "                print('⚠️ Claude did not return valid JSON. Output:')\n",
    "                print(response_text)\n",
    "                return None\n",
    "        except json.JSONDecodeError as e:\n",
    "            print(f'⚠️ JSON parsing error: {str(e)}')\n",
    "            print('Full response:', response_text)\n",
    "            return None\n",
    "    except Exception as e:\n",
    "        print(f'⚠️ Error analyzing stock data: {str(e)}')\n",
    "        return None"
   ]
  },
  {
   "cell_type": "code",
   "execution_count": 69,
   "metadata": {},
   "outputs": [],
   "source": [
    "def visualize_analysis(analysis_result):\n",
    "    \"\"\"\n",
    "    📊 Visualize the stock analysis results with a beautiful chart!\n",
    "    \"\"\"\n",
    "    try:\n",
    "        plt.figure(figsize=(5, 5))\n",
    "        plt.bar(['Investment Score'], [analysis_result['investment_score']], color='skyblue')\n",
    "        plt.ylim(0, 100)\n",
    "        plt.title('Stock Investment Analysis Score')\n",
    "        plt.ylabel('Score (higher = better)')\n",
    "        plt.tight_layout()\n",
    "        plt.close()\n",
    "        # Show inline in notebook\n",
    "        display(Image('stock_analysis.png'))\n",
    "        print(\"\\n🔍 **Detailed Insights**\")\n",
    "        print(f\"- **Company Overview**: {analysis_result['company_overview']}\")\n",
    "        print(f\"- **Financial Health**: {analysis_result['financial_health']}\")\n",
    "        print(f\"- **Growth Potential**: {analysis_result['growth_potential']}\")\n",
    "        print(f\"- **Risk Factors**: {analysis_result['risk_factors']}\")\n",
    "        print(f\"- **Investment Score**: {analysis_result['investment_score']}/100\")\n",
    "    except Exception as e:\n",
    "        print(f'⚠️ Visualization error: {str(e)}')"
   ]
  },
  {
   "cell_type": "markdown",
   "metadata": {},
   "source": [
    "---\n",
    "## 5. 🏁 Main Analysis Function\n",
    "\n",
    "> The \"easy button\" for stock analysis: runs search, scrape, AI, and chart in one call!"
   ]
  },
  {
   "cell_type": "markdown",
   "metadata": {},
   "source": [
    "---\n",
    "## 6. 🎬 Run the Analysis!\n",
    "\n",
    "Ready to test? Just type a ticker (e.g. `AAPL`, `TSLA`, `GOOG`, `NFLX`) and watch the pipeline go! 🚦"
   ]
  },
  {
   "cell_type": "code",
   "execution_count": 71,
   "metadata": {},
   "outputs": [
    {
     "name": "stdout",
     "output_type": "stream",
     "text": [
      "\n",
      "=== 🏦 Starting analysis for: AAPL ===\n",
      "Searching WaterCrawl for 📈 stock: AAPL on https://finance.yahoo.com\n",
      "🔗 Found 4 relevant pages!\n",
      " 📚 Found pages: ['https://finance.yahoo.com/quote/AAPL/', 'https://finance.yahoo.com/quote/AAPL/analysis/', 'https://finance.yahoo.com/quote/AAPL/history/', 'https://finance.yahoo.com/news/apple-inc-aapl-among-stocks-021614536.html']\n",
      " 📚 Scraping page: https://finance.yahoo.com/quote/AAPL/\n",
      " 📚 Scraping page: https://finance.yahoo.com/quote/AAPL/analysis/\n",
      " 📚 Scraping page: https://finance.yahoo.com/quote/AAPL/history/\n",
      " 📚 Scraping page: https://finance.yahoo.com/news/apple-inc-aapl-among-stocks-021614536.html\n"
     ]
    },
    {
     "data": {
      "image/png": "[encoded data removed]",
      "text/plain": [
       "<IPython.core.display.Image object>"
      ]
     },
     "metadata": {},
     "output_type": "display_data"
    },
    {
     "name": "stdout",
     "output_type": "stream",
     "text": [
      "\n",
      "🔍 **Detailed Insights**\n",
      "- **Company Overview**: Apple Inc. is a leading technology company that designs, manufactures, and markets smartphones (iPhone), personal computers (Mac), tablets (iPad), wearables and accessories. The company also provides various services including Apple Arcade, Apple Music, Apple TV+, and operates platforms like the App Store. With a market cap of $3.15 trillion, Apple is one of the world's most valuable companies.\n",
      "- **Financial Health**: Apple demonstrates strong financial health with a solid balance sheet. The company has a trailing P/E ratio of 32.88, indicating premium valuation. Revenue for the trailing twelve months stands at $400.37 billion with net income of $97.29 billion. Apple maintains healthy cash reserves of $48.5 billion, though it carries some debt with a debt-to-equity ratio of 146.99%. The company generates substantial free cash flow of $97.25 billion annually, supporting its dividend yield of 0.52%.\n",
      "- **Growth Potential**: Apple shows mixed growth signals. While the company has experienced a 15.15% stock price increase over the past year, recent quarterly growth has been modest with EPS growth of 1.92% for the current quarter. The company is investing in AI technology, developing chips for smart glasses and next-generation devices. Apple faces challenges in the smartphone market with competition from Samsung's ultrathin Galaxy S25 Edge. Analyst projections indicate revenue growth of 4.12% for the current year and 6.12% for next year, suggesting steady but not explosive growth.\n",
      "- **Risk Factors**: Key risks include intense competition in the consumer electronics space, particularly from Samsung and other smartphone manufacturers. The company faces potential margin pressure with reports of iPhone price hikes unrelated to tariffs. Apple's high valuation (P/E of 32.88) creates expectations that may be difficult to meet. The company also faces regulatory challenges, including a recent $95 million Siri settlement over privacy concerns. Apple's heavy reliance on iPhone sales makes it vulnerable to smartphone market saturation and longer replacement cycles. Trade tensions between the US and China, though recently eased, remain a potential risk given Apple's global supply chain.\n",
      "- **Investment Score**: 78/100\n"
     ]
    }
   ],
   "source": [
    "analyze_stock('AAPL')   # 🍏 Feel free to try other symbols here!"
   ]
  },
  {
   "cell_type": "code",
   "execution_count": 72,
   "id": "448e28a7",
   "metadata": {},
   "outputs": [
    {
     "name": "stdout",
     "output_type": "stream",
     "text": [
      "\n",
      "=== 🏦 Starting analysis for: MSFT ===\n",
      "Searching WaterCrawl for 📈 stock: MSFT on https://finance.yahoo.com\n",
      "🔗 Found 4 relevant pages!\n",
      " 📚 Found pages: ['https://finance.yahoo.com/quote/MSFT/', 'https://finance.yahoo.com/quote/MSFT/analysis/', 'https://uk.finance.yahoo.com/quote/MSFT/', 'https://ca.finance.yahoo.com/quote/MSFT/']\n",
      " 📚 Scraping page: https://finance.yahoo.com/quote/MSFT/\n",
      " 📚 Scraping page: https://finance.yahoo.com/quote/MSFT/analysis/\n",
      " 📚 Scraping page: https://uk.finance.yahoo.com/quote/MSFT/\n",
      " 📚 Scraping page: https://ca.finance.yahoo.com/quote/MSFT/\n"
     ]
    },
    {
     "data": {
      "image/png": "[encoded data removed]",
      "text/plain": [
       "<IPython.core.display.Image object>"
      ]
     },
     "metadata": {},
     "output_type": "display_data"
    },
    {
     "name": "stdout",
     "output_type": "stream",
     "text": [
      "\n",
      "🔍 **Detailed Insights**\n",
      "- **Company Overview**: Microsoft Corporation is a global technology leader that develops and supports software, services, devices, and solutions worldwide. Founded in 1975 and headquartered in Redmond, Washington, the company operates through three main segments: Productivity and Business Processes (including Office 365, LinkedIn, and Dynamics), Intelligent Cloud (Azure, server products, and enterprise services), and More Personal Computing (Windows, devices, gaming, and search advertising).\n",
      "- **Financial Health**: Microsoft demonstrates exceptional financial strength with a market capitalization of $3.34 trillion, making it one of the world's most valuable companies. The company maintains robust profitability with a 35.79% profit margin and $96.64 billion in net income. With $79.62 billion in cash reserves, a manageable debt-to-equity ratio of 32.63%, and strong free cash flow of $54.82 billion, Microsoft has ample resources to fund operations, investments, and shareholder returns.\n",
      "- **Growth Potential**: Microsoft's growth prospects are primarily driven by its leadership in AI and cloud computing. The company's strategic partnership with OpenAI positions it at the forefront of generative AI integration across its product suite. Azure cloud services continue to gain market share, while Microsoft 365 Copilot represents a significant opportunity to monetize AI capabilities within its productivity tools. The company's diversified revenue streams across enterprise software, cloud services, gaming (Xbox), and hardware provide multiple avenues for continued expansion.\n",
      "- **Risk Factors**: Key risks include: 1) Intense competition in cloud services from Amazon AWS and Google Cloud, 2) High valuation with a P/E ratio of 34.72, above the market average, 3) Regulatory scrutiny regarding market dominance and antitrust concerns, 4) Potential challenges in monetizing AI investments at scale, 5) Cybersecurity threats that could impact customer trust, and 6) Macroeconomic uncertainties that might affect enterprise IT spending.\n",
      "- **Investment Score**: 85/100\n"
     ]
    }
   ],
   "source": [
    "analyze_stock('MSFT')   # 🍏 Feel free to try other symbols here!"
   ]
  },
  {
   "cell_type": "markdown",
   "metadata": {},
   "source": [
    "---\n",
    "## 7. 💡 Best Practices & Tips\n",
    "\n",
    "✔️ **Rate Limiting**: WaterCrawl is smart, but don't hammer sites! Consider sleep delays for big scrapes.\n",
    "\n",
    "✔️ **Error Handling**: Always check responses, catch exceptions, and log unexpected content.\n",
    "\n",
    "✔️ **Data Quality**: Validate what you scrape, and if investing, always double-check data from multiple sources.\n",
    "\n",
    "✔️ **Performance**: For mass crawling, consider async techniques or chunked batches.\n",
    "\n",
    "_**Note:** This demo is for educational purposes. Do not use AI output as investment advice!_\n"
   ]
  },
  {
   "cell_type": "markdown",
   "metadata": {},
   "source": [
    "---\n",
    "## 8. 🌱 Next Steps & Remix Ideas\n",
    "\n",
    "🎯 Try analyzing more tickers or sectors\n",
    "\n",
    "📅 Add historical trends & time series charts\n",
    "\n",
    "🔄 Incorporate technical indicators\n",
    "\n",
    "🔥 Build a portfolio analyzer by looping over a stock list\n",
    "\n",
    "_Happy Crawling & Analyzing!_\n"
   ]
  }
 ],
 "metadata": {
  "kernelspec": {
   "display_name": ".venv",
   "language": "python",
   "name": "python3"
  },
  "language_info": {
   "codemirror_mode": {
    "name": "ipython",
    "version": 3
   },
   "file_extension": ".py",
   "mimetype": "text/x-python",
   "name": "python",
   "nbconvert_exporter": "python",
   "pygments_lexer": "ipython3",
   "version": "3.11.9"
  }
 },
 "nbformat": 4,
 "nbformat_minor": 5
}
